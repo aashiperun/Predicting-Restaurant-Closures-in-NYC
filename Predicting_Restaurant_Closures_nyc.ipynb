{
 "cells": [
  {
   "cell_type": "markdown",
   "id": "cb569ea2",
   "metadata": {},
   "source": [
    "## AML Milestone"
   ]
  },
  {
   "cell_type": "markdown",
   "id": "84dc51cd",
   "metadata": {},
   "source": [
    "## 1) Import required libraries"
   ]
  },
  {
   "cell_type": "code",
   "execution_count": 1,
   "id": "3a096c5c",
   "metadata": {},
   "outputs": [],
   "source": [
    "# Pandas helps to load data\n",
    "import pandas as pd \n",
    "# Numpy helps perform computational operations\n",
    "import numpy as np\n",
    "# Matplotlib and Seaborn is used for data visualization\n",
    "import matplotlib.pyplot as plt \n",
    "import seaborn as sns\n",
    "# To enable plots appear within Jupyter Notebook\n",
    "%matplotlib inline\n",
    "\n",
    "import sklearn\n",
    "from sklearn import metrics\n",
    "from sklearn.model_selection import cross_val_score\n",
    "from sklearn.model_selection import train_test_split\n",
    "from sklearn.preprocessing import OneHotEncoder\n",
    "from sklearn.tree import DecisionTreeClassifier\n",
    "from sklearn.linear_model import LogisticRegression\n",
    "from sklearn.svm import SVC\n",
    "\n",
    "from nltk.stem import *\n",
    "import nltk.corpus\n",
    "from nltk.corpus import stopwords\n",
    "\n",
    "from sklearn.feature_extraction.text import CountVectorizer\n",
    "from sklearn.preprocessing import StandardScaler\n",
    "\n",
    "from sklearn.tree import DecisionTreeClassifier\n",
    "from sklearn.model_selection import train_test_split"
   ]
  },
  {
   "cell_type": "markdown",
   "id": "d92bfc58",
   "metadata": {},
   "source": [
    "## 2) Load the Dataset"
   ]
  },
  {
   "cell_type": "code",
   "execution_count": 2,
   "id": "9d3a82a7",
   "metadata": {},
   "outputs": [
    {
     "data": {
      "text/html": [
       "<div>\n",
       "<style scoped>\n",
       "    .dataframe tbody tr th:only-of-type {\n",
       "        vertical-align: middle;\n",
       "    }\n",
       "\n",
       "    .dataframe tbody tr th {\n",
       "        vertical-align: top;\n",
       "    }\n",
       "\n",
       "    .dataframe thead th {\n",
       "        text-align: right;\n",
       "    }\n",
       "</style>\n",
       "<table border=\"1\" class=\"dataframe\">\n",
       "  <thead>\n",
       "    <tr style=\"text-align: right;\">\n",
       "      <th></th>\n",
       "      <th>CAMIS</th>\n",
       "      <th>DBA</th>\n",
       "      <th>BORO</th>\n",
       "      <th>BUILDING</th>\n",
       "      <th>STREET</th>\n",
       "      <th>ZIPCODE</th>\n",
       "      <th>PHONE</th>\n",
       "      <th>CUISINE DESCRIPTION</th>\n",
       "      <th>INSPECTION DATE</th>\n",
       "      <th>ACTION</th>\n",
       "      <th>...</th>\n",
       "      <th>RECORD DATE</th>\n",
       "      <th>INSPECTION TYPE</th>\n",
       "      <th>Latitude</th>\n",
       "      <th>Longitude</th>\n",
       "      <th>Community Board</th>\n",
       "      <th>Council District</th>\n",
       "      <th>Census Tract</th>\n",
       "      <th>BIN</th>\n",
       "      <th>BBL</th>\n",
       "      <th>NTA</th>\n",
       "    </tr>\n",
       "  </thead>\n",
       "  <tbody>\n",
       "    <tr>\n",
       "      <th>0</th>\n",
       "      <td>50048586</td>\n",
       "      <td>BILL'S NEW YORK CITY</td>\n",
       "      <td>Manhattan</td>\n",
       "      <td>57</td>\n",
       "      <td>EAST   54 STREET</td>\n",
       "      <td>10022.0</td>\n",
       "      <td>2125182727</td>\n",
       "      <td>American</td>\n",
       "      <td>11/20/2017</td>\n",
       "      <td>Violations were cited in the following area(s).</td>\n",
       "      <td>...</td>\n",
       "      <td>03/23/2022</td>\n",
       "      <td>Cycle Inspection / Initial Inspection</td>\n",
       "      <td>40.760097</td>\n",
       "      <td>-73.973129</td>\n",
       "      <td>105.0</td>\n",
       "      <td>4.0</td>\n",
       "      <td>10200.0</td>\n",
       "      <td>1035765.0</td>\n",
       "      <td>1.012900e+09</td>\n",
       "      <td>MN17</td>\n",
       "    </tr>\n",
       "    <tr>\n",
       "      <th>1</th>\n",
       "      <td>50071467</td>\n",
       "      <td>TGA NYC</td>\n",
       "      <td>Manhattan</td>\n",
       "      <td>320</td>\n",
       "      <td>WEST   36 STREET</td>\n",
       "      <td>10018.0</td>\n",
       "      <td>2126514842</td>\n",
       "      <td>American</td>\n",
       "      <td>10/17/2018</td>\n",
       "      <td>Violations were cited in the following area(s).</td>\n",
       "      <td>...</td>\n",
       "      <td>03/23/2022</td>\n",
       "      <td>Smoke-Free Air Act / Initial Inspection</td>\n",
       "      <td>40.753817</td>\n",
       "      <td>-73.993362</td>\n",
       "      <td>104.0</td>\n",
       "      <td>3.0</td>\n",
       "      <td>11100.0</td>\n",
       "      <td>1090332.0</td>\n",
       "      <td>1.007590e+09</td>\n",
       "      <td>MN13</td>\n",
       "    </tr>\n",
       "    <tr>\n",
       "      <th>2</th>\n",
       "      <td>41617347</td>\n",
       "      <td>DUNKIN</td>\n",
       "      <td>Bronx</td>\n",
       "      <td>1090</td>\n",
       "      <td>MORRIS PARK AVENUE</td>\n",
       "      <td>10461.0</td>\n",
       "      <td>7189750433</td>\n",
       "      <td>Donuts</td>\n",
       "      <td>08/09/2019</td>\n",
       "      <td>Violations were cited in the following area(s).</td>\n",
       "      <td>...</td>\n",
       "      <td>03/23/2022</td>\n",
       "      <td>Cycle Inspection / Initial Inspection</td>\n",
       "      <td>40.849397</td>\n",
       "      <td>-73.853349</td>\n",
       "      <td>211.0</td>\n",
       "      <td>13.0</td>\n",
       "      <td>25400.0</td>\n",
       "      <td>2094972.0</td>\n",
       "      <td>2.041080e+09</td>\n",
       "      <td>BX37</td>\n",
       "    </tr>\n",
       "    <tr>\n",
       "      <th>3</th>\n",
       "      <td>41617347</td>\n",
       "      <td>DUNKIN</td>\n",
       "      <td>Bronx</td>\n",
       "      <td>1090</td>\n",
       "      <td>MORRIS PARK AVENUE</td>\n",
       "      <td>10461.0</td>\n",
       "      <td>7189750433</td>\n",
       "      <td>Donuts</td>\n",
       "      <td>08/09/2019</td>\n",
       "      <td>Violations were cited in the following area(s).</td>\n",
       "      <td>...</td>\n",
       "      <td>03/23/2022</td>\n",
       "      <td>Cycle Inspection / Initial Inspection</td>\n",
       "      <td>40.849397</td>\n",
       "      <td>-73.853349</td>\n",
       "      <td>211.0</td>\n",
       "      <td>13.0</td>\n",
       "      <td>25400.0</td>\n",
       "      <td>2094972.0</td>\n",
       "      <td>2.041080e+09</td>\n",
       "      <td>BX37</td>\n",
       "    </tr>\n",
       "    <tr>\n",
       "      <th>4</th>\n",
       "      <td>41663033</td>\n",
       "      <td>EL ENCANTO CENTRO-AMERICANO RESTAURANT</td>\n",
       "      <td>Queens</td>\n",
       "      <td>14912</td>\n",
       "      <td>JAMAICA AVENUE</td>\n",
       "      <td>11435.0</td>\n",
       "      <td>7182629799</td>\n",
       "      <td>Latin American</td>\n",
       "      <td>10/27/2021</td>\n",
       "      <td>Violations were cited in the following area(s).</td>\n",
       "      <td>...</td>\n",
       "      <td>03/23/2022</td>\n",
       "      <td>Cycle Inspection / Initial Inspection</td>\n",
       "      <td>40.701927</td>\n",
       "      <td>-73.805260</td>\n",
       "      <td>412.0</td>\n",
       "      <td>27.0</td>\n",
       "      <td>21200.0</td>\n",
       "      <td>4213989.0</td>\n",
       "      <td>4.099970e+09</td>\n",
       "      <td>QN61</td>\n",
       "    </tr>\n",
       "    <tr>\n",
       "      <th>...</th>\n",
       "      <td>...</td>\n",
       "      <td>...</td>\n",
       "      <td>...</td>\n",
       "      <td>...</td>\n",
       "      <td>...</td>\n",
       "      <td>...</td>\n",
       "      <td>...</td>\n",
       "      <td>...</td>\n",
       "      <td>...</td>\n",
       "      <td>...</td>\n",
       "      <td>...</td>\n",
       "      <td>...</td>\n",
       "      <td>...</td>\n",
       "      <td>...</td>\n",
       "      <td>...</td>\n",
       "      <td>...</td>\n",
       "      <td>...</td>\n",
       "      <td>...</td>\n",
       "      <td>...</td>\n",
       "      <td>...</td>\n",
       "      <td>...</td>\n",
       "    </tr>\n",
       "    <tr>\n",
       "      <th>329115</th>\n",
       "      <td>50093803</td>\n",
       "      <td>COFFEE MONSTER</td>\n",
       "      <td>Queens</td>\n",
       "      <td>15708</td>\n",
       "      <td>NORTHERN BLVD</td>\n",
       "      <td>11354.0</td>\n",
       "      <td>9179080334</td>\n",
       "      <td>Coffee/Tea</td>\n",
       "      <td>12/03/2019</td>\n",
       "      <td>Violations were cited in the following area(s).</td>\n",
       "      <td>...</td>\n",
       "      <td>03/23/2022</td>\n",
       "      <td>Pre-permit (Operational) / Initial Inspection</td>\n",
       "      <td>40.763722</td>\n",
       "      <td>-73.808049</td>\n",
       "      <td>407.0</td>\n",
       "      <td>20.0</td>\n",
       "      <td>117100.0</td>\n",
       "      <td>4119352.0</td>\n",
       "      <td>4.052760e+09</td>\n",
       "      <td>QN51</td>\n",
       "    </tr>\n",
       "    <tr>\n",
       "      <th>329116</th>\n",
       "      <td>41648461</td>\n",
       "      <td>TROPIC POLLO</td>\n",
       "      <td>Queens</td>\n",
       "      <td>9059</td>\n",
       "      <td>CORONA AVENUE</td>\n",
       "      <td>11373.0</td>\n",
       "      <td>7185921868</td>\n",
       "      <td>Latin American</td>\n",
       "      <td>03/07/2019</td>\n",
       "      <td>No violations were recorded at the time of thi...</td>\n",
       "      <td>...</td>\n",
       "      <td>03/23/2022</td>\n",
       "      <td>Administrative Miscellaneous / Initial Inspection</td>\n",
       "      <td>40.742442</td>\n",
       "      <td>-73.873697</td>\n",
       "      <td>404.0</td>\n",
       "      <td>25.0</td>\n",
       "      <td>47100.0</td>\n",
       "      <td>4039574.0</td>\n",
       "      <td>4.015860e+09</td>\n",
       "      <td>QN29</td>\n",
       "    </tr>\n",
       "    <tr>\n",
       "      <th>329117</th>\n",
       "      <td>41272136</td>\n",
       "      <td>GOLDEN KRUST CARIBBEAN BAKERY &amp; GRILL</td>\n",
       "      <td>Brooklyn</td>\n",
       "      <td>872</td>\n",
       "      <td>UTICA AVENUE</td>\n",
       "      <td>11203.0</td>\n",
       "      <td>7182825027</td>\n",
       "      <td>Caribbean</td>\n",
       "      <td>07/12/2019</td>\n",
       "      <td>Violations were cited in the following area(s).</td>\n",
       "      <td>...</td>\n",
       "      <td>03/23/2022</td>\n",
       "      <td>Cycle Inspection / Re-inspection</td>\n",
       "      <td>40.652110</td>\n",
       "      <td>-73.930435</td>\n",
       "      <td>317.0</td>\n",
       "      <td>41.0</td>\n",
       "      <td>86800.0</td>\n",
       "      <td>3102091.0</td>\n",
       "      <td>3.046750e+09</td>\n",
       "      <td>BK96</td>\n",
       "    </tr>\n",
       "    <tr>\n",
       "      <th>329118</th>\n",
       "      <td>41350902</td>\n",
       "      <td>SPA CASTLE CAFE</td>\n",
       "      <td>Queens</td>\n",
       "      <td>11-11</td>\n",
       "      <td>131 STREET</td>\n",
       "      <td>11356.0</td>\n",
       "      <td>7189396300</td>\n",
       "      <td>Asian/Asian Fusion</td>\n",
       "      <td>03/16/2022</td>\n",
       "      <td>Violations were cited in the following area(s).</td>\n",
       "      <td>...</td>\n",
       "      <td>03/23/2022</td>\n",
       "      <td>Cycle Inspection / Initial Inspection</td>\n",
       "      <td>40.787493</td>\n",
       "      <td>-73.837351</td>\n",
       "      <td>407.0</td>\n",
       "      <td>19.0</td>\n",
       "      <td>94500.0</td>\n",
       "      <td>4097283.0</td>\n",
       "      <td>4.040110e+09</td>\n",
       "      <td>QN49</td>\n",
       "    </tr>\n",
       "    <tr>\n",
       "      <th>329119</th>\n",
       "      <td>41559805</td>\n",
       "      <td>DUNKIN</td>\n",
       "      <td>Brooklyn</td>\n",
       "      <td>640</td>\n",
       "      <td>SOUTH CONDUIT BOULEVARD</td>\n",
       "      <td>11208.0</td>\n",
       "      <td>3478733086</td>\n",
       "      <td>Donuts</td>\n",
       "      <td>11/18/2019</td>\n",
       "      <td>Violations were cited in the following area(s).</td>\n",
       "      <td>...</td>\n",
       "      <td>03/23/2022</td>\n",
       "      <td>Cycle Inspection / Initial Inspection</td>\n",
       "      <td>40.675675</td>\n",
       "      <td>-73.866069</td>\n",
       "      <td>305.0</td>\n",
       "      <td>42.0</td>\n",
       "      <td>120000.0</td>\n",
       "      <td>3095219.0</td>\n",
       "      <td>3.042390e+09</td>\n",
       "      <td>BK82</td>\n",
       "    </tr>\n",
       "  </tbody>\n",
       "</table>\n",
       "<p>329120 rows × 26 columns</p>\n",
       "</div>"
      ],
      "text/plain": [
       "           CAMIS                                     DBA       BORO BUILDING  \\\n",
       "0       50048586                    BILL'S NEW YORK CITY  Manhattan       57   \n",
       "1       50071467                                 TGA NYC  Manhattan      320   \n",
       "2       41617347                                  DUNKIN      Bronx     1090   \n",
       "3       41617347                                  DUNKIN      Bronx     1090   \n",
       "4       41663033  EL ENCANTO CENTRO-AMERICANO RESTAURANT     Queens    14912   \n",
       "...          ...                                     ...        ...      ...   \n",
       "329115  50093803                          COFFEE MONSTER     Queens    15708   \n",
       "329116  41648461                            TROPIC POLLO     Queens     9059   \n",
       "329117  41272136   GOLDEN KRUST CARIBBEAN BAKERY & GRILL   Brooklyn      872   \n",
       "329118  41350902                         SPA CASTLE CAFE     Queens    11-11   \n",
       "329119  41559805                                  DUNKIN   Brooklyn      640   \n",
       "\n",
       "                         STREET  ZIPCODE       PHONE CUISINE DESCRIPTION  \\\n",
       "0              EAST   54 STREET  10022.0  2125182727            American   \n",
       "1              WEST   36 STREET  10018.0  2126514842            American   \n",
       "2            MORRIS PARK AVENUE  10461.0  7189750433              Donuts   \n",
       "3            MORRIS PARK AVENUE  10461.0  7189750433              Donuts   \n",
       "4                JAMAICA AVENUE  11435.0  7182629799      Latin American   \n",
       "...                         ...      ...         ...                 ...   \n",
       "329115            NORTHERN BLVD  11354.0  9179080334          Coffee/Tea   \n",
       "329116            CORONA AVENUE  11373.0  7185921868      Latin American   \n",
       "329117             UTICA AVENUE  11203.0  7182825027           Caribbean   \n",
       "329118               131 STREET  11356.0  7189396300  Asian/Asian Fusion   \n",
       "329119  SOUTH CONDUIT BOULEVARD  11208.0  3478733086              Donuts   \n",
       "\n",
       "       INSPECTION DATE                                             ACTION  \\\n",
       "0           11/20/2017    Violations were cited in the following area(s).   \n",
       "1           10/17/2018    Violations were cited in the following area(s).   \n",
       "2           08/09/2019    Violations were cited in the following area(s).   \n",
       "3           08/09/2019    Violations were cited in the following area(s).   \n",
       "4           10/27/2021    Violations were cited in the following area(s).   \n",
       "...                ...                                                ...   \n",
       "329115      12/03/2019    Violations were cited in the following area(s).   \n",
       "329116      03/07/2019  No violations were recorded at the time of thi...   \n",
       "329117      07/12/2019    Violations were cited in the following area(s).   \n",
       "329118      03/16/2022    Violations were cited in the following area(s).   \n",
       "329119      11/18/2019    Violations were cited in the following area(s).   \n",
       "\n",
       "        ... RECORD DATE                                    INSPECTION TYPE  \\\n",
       "0       ...  03/23/2022              Cycle Inspection / Initial Inspection   \n",
       "1       ...  03/23/2022            Smoke-Free Air Act / Initial Inspection   \n",
       "2       ...  03/23/2022              Cycle Inspection / Initial Inspection   \n",
       "3       ...  03/23/2022              Cycle Inspection / Initial Inspection   \n",
       "4       ...  03/23/2022              Cycle Inspection / Initial Inspection   \n",
       "...     ...         ...                                                ...   \n",
       "329115  ...  03/23/2022      Pre-permit (Operational) / Initial Inspection   \n",
       "329116  ...  03/23/2022  Administrative Miscellaneous / Initial Inspection   \n",
       "329117  ...  03/23/2022                   Cycle Inspection / Re-inspection   \n",
       "329118  ...  03/23/2022              Cycle Inspection / Initial Inspection   \n",
       "329119  ...  03/23/2022              Cycle Inspection / Initial Inspection   \n",
       "\n",
       "         Latitude  Longitude Community Board Council District Census Tract  \\\n",
       "0       40.760097 -73.973129           105.0              4.0      10200.0   \n",
       "1       40.753817 -73.993362           104.0              3.0      11100.0   \n",
       "2       40.849397 -73.853349           211.0             13.0      25400.0   \n",
       "3       40.849397 -73.853349           211.0             13.0      25400.0   \n",
       "4       40.701927 -73.805260           412.0             27.0      21200.0   \n",
       "...           ...        ...             ...              ...          ...   \n",
       "329115  40.763722 -73.808049           407.0             20.0     117100.0   \n",
       "329116  40.742442 -73.873697           404.0             25.0      47100.0   \n",
       "329117  40.652110 -73.930435           317.0             41.0      86800.0   \n",
       "329118  40.787493 -73.837351           407.0             19.0      94500.0   \n",
       "329119  40.675675 -73.866069           305.0             42.0     120000.0   \n",
       "\n",
       "              BIN           BBL   NTA  \n",
       "0       1035765.0  1.012900e+09  MN17  \n",
       "1       1090332.0  1.007590e+09  MN13  \n",
       "2       2094972.0  2.041080e+09  BX37  \n",
       "3       2094972.0  2.041080e+09  BX37  \n",
       "4       4213989.0  4.099970e+09  QN61  \n",
       "...           ...           ...   ...  \n",
       "329115  4119352.0  4.052760e+09  QN51  \n",
       "329116  4039574.0  4.015860e+09  QN29  \n",
       "329117  3102091.0  3.046750e+09  BK96  \n",
       "329118  4097283.0  4.040110e+09  QN49  \n",
       "329119  3095219.0  3.042390e+09  BK82  \n",
       "\n",
       "[329120 rows x 26 columns]"
      ]
     },
     "execution_count": 2,
     "metadata": {},
     "output_type": "execute_result"
    }
   ],
   "source": [
    "#Load Dataset\n",
    "df = pd.read_csv(\"DOHMH_New_York_City_Restaurant_Inspection_Results (1).csv\")\n",
    "df"
   ]
  },
  {
   "cell_type": "markdown",
   "id": "c3056159",
   "metadata": {},
   "source": [
    "## 3) Cleaning the Data"
   ]
  },
  {
   "cell_type": "code",
   "execution_count": 3,
   "id": "7c1970bb",
   "metadata": {},
   "outputs": [
    {
     "name": "stdout",
     "output_type": "stream",
     "text": [
      "<class 'pandas.core.frame.DataFrame'>\n",
      "RangeIndex: 329120 entries, 0 to 329119\n",
      "Data columns (total 26 columns):\n",
      " #   Column                 Non-Null Count   Dtype  \n",
      "---  ------                 --------------   -----  \n",
      " 0   CAMIS                  329120 non-null  int64  \n",
      " 1   DBA                    327829 non-null  object \n",
      " 2   BORO                   329120 non-null  object \n",
      " 3   BUILDING               328537 non-null  object \n",
      " 4   STREET                 329108 non-null  object \n",
      " 5   ZIPCODE                324134 non-null  float64\n",
      " 6   PHONE                  329092 non-null  object \n",
      " 7   CUISINE DESCRIPTION    325162 non-null  object \n",
      " 8   INSPECTION DATE        329120 non-null  object \n",
      " 9   ACTION                 325163 non-null  object \n",
      " 10  VIOLATION CODE         321466 non-null  object \n",
      " 11  VIOLATION DESCRIPTION  323448 non-null  object \n",
      " 12  CRITICAL FLAG          329120 non-null  object \n",
      " 13  SCORE                  313863 non-null  float64\n",
      " 14  GRADE                  166354 non-null  object \n",
      " 15  GRADE DATE             161932 non-null  object \n",
      " 16  RECORD DATE            329120 non-null  object \n",
      " 17  INSPECTION TYPE        325163 non-null  object \n",
      " 18  Latitude               328798 non-null  float64\n",
      " 19  Longitude              328798 non-null  float64\n",
      " 20  Community Board        323336 non-null  float64\n",
      " 21  Council District       323344 non-null  float64\n",
      " 22  Census Tract           323344 non-null  float64\n",
      " 23  BIN                    321836 non-null  float64\n",
      " 24  BBL                    328310 non-null  float64\n",
      " 25  NTA                    323336 non-null  object \n",
      "dtypes: float64(9), int64(1), object(16)\n",
      "memory usage: 65.3+ MB\n"
     ]
    }
   ],
   "source": [
    "df.info()"
   ]
  },
  {
   "cell_type": "markdown",
   "id": "56c1bbbf",
   "metadata": {},
   "source": [
    "### Removing Duplicate data"
   ]
  },
  {
   "cell_type": "code",
   "execution_count": 4,
   "id": "72a60f96",
   "metadata": {},
   "outputs": [
    {
     "name": "stdout",
     "output_type": "stream",
     "text": [
      "# of Restaurants in NYC:  28727\n",
      "# of duplicates:  0\n"
     ]
    },
    {
     "data": {
      "text/html": [
       "<div>\n",
       "<style scoped>\n",
       "    .dataframe tbody tr th:only-of-type {\n",
       "        vertical-align: middle;\n",
       "    }\n",
       "\n",
       "    .dataframe tbody tr th {\n",
       "        vertical-align: top;\n",
       "    }\n",
       "\n",
       "    .dataframe thead th {\n",
       "        text-align: right;\n",
       "    }\n",
       "</style>\n",
       "<table border=\"1\" class=\"dataframe\">\n",
       "  <thead>\n",
       "    <tr style=\"text-align: right;\">\n",
       "      <th></th>\n",
       "      <th>CAMIS</th>\n",
       "      <th>DBA</th>\n",
       "      <th>BORO</th>\n",
       "      <th>BUILDING</th>\n",
       "      <th>STREET</th>\n",
       "      <th>ZIPCODE</th>\n",
       "      <th>PHONE</th>\n",
       "      <th>CUISINE DESCRIPTION</th>\n",
       "      <th>INSPECTION DATE</th>\n",
       "      <th>ACTION</th>\n",
       "      <th>...</th>\n",
       "      <th>Latitude</th>\n",
       "      <th>Longitude</th>\n",
       "      <th>Community Board</th>\n",
       "      <th>Council District</th>\n",
       "      <th>Census Tract</th>\n",
       "      <th>BIN</th>\n",
       "      <th>BBL</th>\n",
       "      <th>NTA</th>\n",
       "      <th>#_of_inspections</th>\n",
       "      <th>count_check</th>\n",
       "    </tr>\n",
       "  </thead>\n",
       "  <tbody>\n",
       "    <tr>\n",
       "      <th>0</th>\n",
       "      <td>50075009</td>\n",
       "      <td>#1 GARDEN CHINESE RESTAURANT</td>\n",
       "      <td>Brooklyn</td>\n",
       "      <td>221</td>\n",
       "      <td>PROSPECT PARK WEST</td>\n",
       "      <td>11215.0</td>\n",
       "      <td>9172508950</td>\n",
       "      <td>Chinese</td>\n",
       "      <td>2019-12-16</td>\n",
       "      <td>Violations were cited in the following area(s).</td>\n",
       "      <td>...</td>\n",
       "      <td>40.660156</td>\n",
       "      <td>-73.980555</td>\n",
       "      <td>307.0</td>\n",
       "      <td>39.0</td>\n",
       "      <td>16900.0</td>\n",
       "      <td>3026939.0</td>\n",
       "      <td>3.011100e+09</td>\n",
       "      <td>BK40</td>\n",
       "      <td>29</td>\n",
       "      <td>1</td>\n",
       "    </tr>\n",
       "    <tr>\n",
       "      <th>1</th>\n",
       "      <td>41336841</td>\n",
       "      <td>#1 SABOR LATINO RESTAURANT</td>\n",
       "      <td>Bronx</td>\n",
       "      <td>4120</td>\n",
       "      <td>WHITE PLAINS ROAD</td>\n",
       "      <td>10466.0</td>\n",
       "      <td>7186532222</td>\n",
       "      <td>Latin American</td>\n",
       "      <td>2022-03-17</td>\n",
       "      <td>Violations were cited in the following area(s).</td>\n",
       "      <td>...</td>\n",
       "      <td>40.891176</td>\n",
       "      <td>-73.858591</td>\n",
       "      <td>212.0</td>\n",
       "      <td>12.0</td>\n",
       "      <td>42200.0</td>\n",
       "      <td>2063603.0</td>\n",
       "      <td>2.048430e+09</td>\n",
       "      <td>BX44</td>\n",
       "      <td>15</td>\n",
       "      <td>1</td>\n",
       "    </tr>\n",
       "    <tr>\n",
       "      <th>2</th>\n",
       "      <td>50086385</td>\n",
       "      <td>$1 PIZZA</td>\n",
       "      <td>Manhattan</td>\n",
       "      <td>832</td>\n",
       "      <td>6 AVENUE</td>\n",
       "      <td>10001.0</td>\n",
       "      <td>9175878888</td>\n",
       "      <td>Pizza</td>\n",
       "      <td>2022-02-22</td>\n",
       "      <td>Violations were cited in the following area(s).</td>\n",
       "      <td>...</td>\n",
       "      <td>40.746510</td>\n",
       "      <td>-73.990158</td>\n",
       "      <td>105.0</td>\n",
       "      <td>3.0</td>\n",
       "      <td>7600.0</td>\n",
       "      <td>1015746.0</td>\n",
       "      <td>1.008300e+09</td>\n",
       "      <td>MN17</td>\n",
       "      <td>12</td>\n",
       "      <td>1</td>\n",
       "    </tr>\n",
       "    <tr>\n",
       "      <th>3</th>\n",
       "      <td>50105915</td>\n",
       "      <td>$1 PIZZA SLICE</td>\n",
       "      <td>Manhattan</td>\n",
       "      <td>748</td>\n",
       "      <td>9 AVENUE</td>\n",
       "      <td>10019.0</td>\n",
       "      <td>5513581106</td>\n",
       "      <td>NaN</td>\n",
       "      <td>1900-01-01</td>\n",
       "      <td>NaN</td>\n",
       "      <td>...</td>\n",
       "      <td>40.763714</td>\n",
       "      <td>-73.988766</td>\n",
       "      <td>104.0</td>\n",
       "      <td>3.0</td>\n",
       "      <td>13300.0</td>\n",
       "      <td>1025172.0</td>\n",
       "      <td>1.010410e+09</td>\n",
       "      <td>MN15</td>\n",
       "      <td>1</td>\n",
       "      <td>1</td>\n",
       "    </tr>\n",
       "    <tr>\n",
       "      <th>4</th>\n",
       "      <td>50106018</td>\n",
       "      <td>$1 SLICE PIZZA</td>\n",
       "      <td>Bronx</td>\n",
       "      <td>3414</td>\n",
       "      <td>JEROME AVENUE</td>\n",
       "      <td>10467.0</td>\n",
       "      <td>3479930599</td>\n",
       "      <td>Pizza</td>\n",
       "      <td>2021-11-18</td>\n",
       "      <td>Violations were cited in the following area(s).</td>\n",
       "      <td>...</td>\n",
       "      <td>40.881253</td>\n",
       "      <td>-73.882900</td>\n",
       "      <td>207.0</td>\n",
       "      <td>11.0</td>\n",
       "      <td>42100.0</td>\n",
       "      <td>2017769.0</td>\n",
       "      <td>2.033270e+09</td>\n",
       "      <td>BX43</td>\n",
       "      <td>3</td>\n",
       "      <td>1</td>\n",
       "    </tr>\n",
       "  </tbody>\n",
       "</table>\n",
       "<p>5 rows × 28 columns</p>\n",
       "</div>"
      ],
      "text/plain": [
       "      CAMIS                           DBA       BORO BUILDING  \\\n",
       "0  50075009  #1 GARDEN CHINESE RESTAURANT   Brooklyn      221   \n",
       "1  41336841    #1 SABOR LATINO RESTAURANT      Bronx     4120   \n",
       "2  50086385                      $1 PIZZA  Manhattan      832   \n",
       "3  50105915                $1 PIZZA SLICE  Manhattan      748   \n",
       "4  50106018                $1 SLICE PIZZA      Bronx     3414   \n",
       "\n",
       "               STREET  ZIPCODE       PHONE CUISINE DESCRIPTION  \\\n",
       "0  PROSPECT PARK WEST  11215.0  9172508950             Chinese   \n",
       "1   WHITE PLAINS ROAD  10466.0  7186532222      Latin American   \n",
       "2            6 AVENUE  10001.0  9175878888               Pizza   \n",
       "3            9 AVENUE  10019.0  5513581106                 NaN   \n",
       "4       JEROME AVENUE  10467.0  3479930599               Pizza   \n",
       "\n",
       "  INSPECTION DATE                                           ACTION  ...  \\\n",
       "0      2019-12-16  Violations were cited in the following area(s).  ...   \n",
       "1      2022-03-17  Violations were cited in the following area(s).  ...   \n",
       "2      2022-02-22  Violations were cited in the following area(s).  ...   \n",
       "3      1900-01-01                                              NaN  ...   \n",
       "4      2021-11-18  Violations were cited in the following area(s).  ...   \n",
       "\n",
       "    Latitude  Longitude Community Board  Council District Census Tract  \\\n",
       "0  40.660156 -73.980555           307.0              39.0      16900.0   \n",
       "1  40.891176 -73.858591           212.0              12.0      42200.0   \n",
       "2  40.746510 -73.990158           105.0               3.0       7600.0   \n",
       "3  40.763714 -73.988766           104.0               3.0      13300.0   \n",
       "4  40.881253 -73.882900           207.0              11.0      42100.0   \n",
       "\n",
       "         BIN           BBL   NTA  #_of_inspections  count_check  \n",
       "0  3026939.0  3.011100e+09  BK40                29            1  \n",
       "1  2063603.0  2.048430e+09  BX44                15            1  \n",
       "2  1015746.0  1.008300e+09  MN17                12            1  \n",
       "3  1025172.0  1.010410e+09  MN15                 1            1  \n",
       "4  2017769.0  2.033270e+09  BX43                 3            1  \n",
       "\n",
       "[5 rows x 28 columns]"
      ]
     },
     "execution_count": 4,
     "metadata": {},
     "output_type": "execute_result"
    }
   ],
   "source": [
    "# Change the inspection date column to datetime format:\n",
    "df['INSPECTION DATE'] = pd.to_datetime(df['INSPECTION DATE'])\n",
    "\n",
    "# Add a column that counts how many data entries have the same id (CAMIS) (and therefore represent the same restaurant):\n",
    "df['#_of_inspections'] = df.groupby('CAMIS')['CAMIS'].transform('count')\n",
    "\n",
    "# Sort values by name (DBA), id (CAMIS), and inspection date:\n",
    "df_sorted = df.sort_values(by=['DBA', 'CAMIS','INSPECTION DATE'])\n",
    "\n",
    "# Drop duplicate values:\n",
    "df_filtered = df_sorted.drop_duplicates(subset=['DBA', 'CAMIS'], keep='last', inplace=False).copy()\n",
    "\n",
    "# Double check no duplicates remain:\n",
    "df_filtered['count_check'] = df_filtered.groupby('CAMIS')['CAMIS'].transform('count')\n",
    "print('# of Restaurants in NYC: ', len(df_filtered))\n",
    "print('# of duplicates: ', len(df_filtered[df_filtered['count_check'] > 1]))\n",
    "df_filtered.reset_index(inplace=True, drop = True)\n",
    "df_filtered.head()"
   ]
  },
  {
   "cell_type": "markdown",
   "id": "c2d8a237",
   "metadata": {},
   "source": [
    "### Remove Unnecessary Columns"
   ]
  },
  {
   "cell_type": "code",
   "execution_count": 5,
   "id": "cf82f97f",
   "metadata": {},
   "outputs": [],
   "source": [
    "# Remove columns that we will not be working with:\n",
    "df_filtered.drop(columns = ['VIOLATION DESCRIPTION','VIOLATION CODE', 'RECORD DATE', \n",
    "                                   'Community Board', 'Council District', 'Census Tract','BIN','BBL','NTA',\n",
    "                                   'count_check'], inplace = True, axis=1)"
   ]
  },
  {
   "cell_type": "markdown",
   "id": "22b27ff1",
   "metadata": {},
   "source": [
    "### Changing Phone Number format"
   ]
  },
  {
   "cell_type": "code",
   "execution_count": 6,
   "id": "17ff0c72",
   "metadata": {},
   "outputs": [],
   "source": [
    "# Update format of telephone numbers:\n",
    "df_filtered['PHONE']=df_filtered['PHONE'].astype(str).apply(\n",
    "    lambda x: '('+x[:3]+')'+' '+x[3:6]+'-'+x[6:10])\n",
    "\n",
    "# Rename telephone number column to match the name in the df_filtered dataset:\n",
    "df_filtered.rename(columns={'PHONE':'display_phone'}, inplace=True)"
   ]
  },
  {
   "cell_type": "markdown",
   "id": "dfea20f6",
   "metadata": {},
   "source": [
    "### Handling Missing Data"
   ]
  },
  {
   "cell_type": "code",
   "execution_count": 7,
   "id": "89fbf21d",
   "metadata": {},
   "outputs": [
    {
     "data": {
      "text/plain": [
       "CAMIS                     0\n",
       "DBA                    1240\n",
       "BORO                      0\n",
       "BUILDING                101\n",
       "STREET                   12\n",
       "ZIPCODE                 468\n",
       "display_phone             0\n",
       "CUISINE DESCRIPTION    3958\n",
       "INSPECTION DATE           0\n",
       "ACTION                 3957\n",
       "CRITICAL FLAG             0\n",
       "SCORE                  4553\n",
       "GRADE                  7433\n",
       "GRADE DATE             8422\n",
       "INSPECTION TYPE        3957\n",
       "Latitude                 81\n",
       "Longitude                81\n",
       "#_of_inspections          0\n",
       "dtype: int64"
      ]
     },
     "execution_count": 7,
     "metadata": {},
     "output_type": "execute_result"
    }
   ],
   "source": [
    "df_filtered.isnull().sum()"
   ]
  },
  {
   "cell_type": "code",
   "execution_count": 8,
   "id": "915676eb",
   "metadata": {},
   "outputs": [],
   "source": [
    "# Replace null values in ACTION column with 'Not Yet Inspected' as per guidence from dataset creators\n",
    "df_filtered['ACTION'].fillna(value='Not Yet Inspected', inplace=True)\n",
    "\n",
    "# Replace null values in CRITICAL FLAG column with 'Not Applicable' as per guidence from dataset creators\n",
    "df_filtered['CRITICAL FLAG'].fillna(value='Not Applicable', inplace=True)\n",
    "\n",
    "# Replace null values in INSPECTION TYPE column with 'Unknown' as per guidence from dataset creators\n",
    "df_filtered['INSPECTION TYPE'].fillna(value='Unknown', inplace=True)"
   ]
  },
  {
   "cell_type": "code",
   "execution_count": 9,
   "id": "8276fc0f",
   "metadata": {},
   "outputs": [
    {
     "data": {
      "text/plain": [
       "A    18535\n",
       "N     4950\n",
       "Z     4061\n",
       "B      887\n",
       "C      218\n",
       "P       76\n",
       "Name: GRADE, dtype: int64"
      ]
     },
     "execution_count": 9,
     "metadata": {},
     "output_type": "execute_result"
    }
   ],
   "source": [
    "# Use details from Action column to determine grade status for rows with null values:\n",
    "df_filtered['GRADE'].fillna(df_filtered['ACTION'], inplace=True)\n",
    "df_filtered['GRADE'].replace({'Violations were cited in the following area(s).':'Z',\n",
    "                                     'No violations were recorded at the time of this inspection.': 'A',\n",
    "                                     'Not Yet Inspected':'N',\n",
    "                                     'Establishment Closed by DOHMH. Violations were cited in the following area(s) and those requiring immediate action were addressed.':'P',\n",
    "                                     'Establishment re-opened by DOHMH.': 'P','Establishment re-closed by DOHMH': 'P'}, inplace = True)\n",
    "\n",
    "# Ensure GRADE column has only the grade letter scores and not any text from the Action column:\n",
    "df_filtered['GRADE'].value_counts()"
   ]
  },
  {
   "cell_type": "code",
   "execution_count": 10,
   "id": "a9e5ed0d",
   "metadata": {},
   "outputs": [],
   "source": [
    "# Use details from GRADE column to determine the SCORE for rows with null values:\n",
    "df_filtered['SCORE'].fillna(df_filtered['GRADE'], inplace=True)\n",
    "df_filtered['SCORE'].replace({'N':'PEND',\n",
    "                                     'Z': 'PEND',\n",
    "                                     'P':'PEND',\n",
    "                                     'A': 8,\n",
    "                                     'B': 21,\n",
    "                                     'C': 35}, inplace = True)"
   ]
  },
  {
   "cell_type": "code",
   "execution_count": 11,
   "id": "6f1cab66",
   "metadata": {},
   "outputs": [
    {
     "data": {
      "text/plain": [
       "CAMIS                  0\n",
       "DBA                    0\n",
       "BORO                   0\n",
       "BUILDING               0\n",
       "STREET                 0\n",
       "ZIPCODE                0\n",
       "display_phone          0\n",
       "CUISINE DESCRIPTION    0\n",
       "INSPECTION DATE        0\n",
       "ACTION                 0\n",
       "CRITICAL FLAG          0\n",
       "SCORE                  0\n",
       "GRADE                  0\n",
       "GRADE DATE             0\n",
       "INSPECTION TYPE        0\n",
       "Latitude               0\n",
       "Longitude              0\n",
       "#_of_inspections       0\n",
       "dtype: int64"
      ]
     },
     "execution_count": 11,
     "metadata": {},
     "output_type": "execute_result"
    }
   ],
   "source": [
    "# Replace null values in grade date column with 'TBD' as the restaurants with no grade date do not yet have a grade.\n",
    "df_filtered['GRADE DATE'].fillna(value='TBD', inplace=True)\n",
    "\n",
    "# Drop all other rows with NaN values:\n",
    "df_filtered.dropna(inplace=True)\n",
    "\n",
    "# Double check we do not have any more null values:\n",
    "df_filtered.isnull().sum()"
   ]
  },
  {
   "cell_type": "markdown",
   "id": "6f62efa6",
   "metadata": {},
   "source": [
    "### Handling Outliers"
   ]
  },
  {
   "cell_type": "code",
   "execution_count": 12,
   "id": "83442dbc",
   "metadata": {},
   "outputs": [
    {
     "data": {
      "text/html": [
       "<div>\n",
       "<style scoped>\n",
       "    .dataframe tbody tr th:only-of-type {\n",
       "        vertical-align: middle;\n",
       "    }\n",
       "\n",
       "    .dataframe tbody tr th {\n",
       "        vertical-align: top;\n",
       "    }\n",
       "\n",
       "    .dataframe thead th {\n",
       "        text-align: right;\n",
       "    }\n",
       "</style>\n",
       "<table border=\"1\" class=\"dataframe\">\n",
       "  <thead>\n",
       "    <tr style=\"text-align: right;\">\n",
       "      <th></th>\n",
       "      <th>CAMIS</th>\n",
       "      <th>ZIPCODE</th>\n",
       "      <th>Latitude</th>\n",
       "      <th>Longitude</th>\n",
       "      <th>#_of_inspections</th>\n",
       "    </tr>\n",
       "  </thead>\n",
       "  <tbody>\n",
       "    <tr>\n",
       "      <th>count</th>\n",
       "      <td>2.427900e+04</td>\n",
       "      <td>24279.000000</td>\n",
       "      <td>24279.000000</td>\n",
       "      <td>24279.000000</td>\n",
       "      <td>24279.000000</td>\n",
       "    </tr>\n",
       "    <tr>\n",
       "      <th>mean</th>\n",
       "      <td>4.710586e+07</td>\n",
       "      <td>10670.524115</td>\n",
       "      <td>40.729517</td>\n",
       "      <td>-73.943762</td>\n",
       "      <td>13.160138</td>\n",
       "    </tr>\n",
       "    <tr>\n",
       "      <th>std</th>\n",
       "      <td>4.191804e+06</td>\n",
       "      <td>594.033711</td>\n",
       "      <td>0.068357</td>\n",
       "      <td>0.075284</td>\n",
       "      <td>10.523260</td>\n",
       "    </tr>\n",
       "    <tr>\n",
       "      <th>min</th>\n",
       "      <td>3.007544e+07</td>\n",
       "      <td>10000.000000</td>\n",
       "      <td>40.499563</td>\n",
       "      <td>-74.248708</td>\n",
       "      <td>1.000000</td>\n",
       "    </tr>\n",
       "    <tr>\n",
       "      <th>25%</th>\n",
       "      <td>4.156782e+07</td>\n",
       "      <td>10022.000000</td>\n",
       "      <td>40.690223</td>\n",
       "      <td>-73.989193</td>\n",
       "      <td>5.000000</td>\n",
       "    </tr>\n",
       "    <tr>\n",
       "      <th>50%</th>\n",
       "      <td>5.004572e+07</td>\n",
       "      <td>10467.000000</td>\n",
       "      <td>40.735760</td>\n",
       "      <td>-73.959633</td>\n",
       "      <td>10.000000</td>\n",
       "    </tr>\n",
       "    <tr>\n",
       "      <th>75%</th>\n",
       "      <td>5.008627e+07</td>\n",
       "      <td>11226.000000</td>\n",
       "      <td>40.762756</td>\n",
       "      <td>-73.904043</td>\n",
       "      <td>18.000000</td>\n",
       "    </tr>\n",
       "    <tr>\n",
       "      <th>max</th>\n",
       "      <td>5.012003e+07</td>\n",
       "      <td>12345.000000</td>\n",
       "      <td>40.912822</td>\n",
       "      <td>-73.700928</td>\n",
       "      <td>99.000000</td>\n",
       "    </tr>\n",
       "  </tbody>\n",
       "</table>\n",
       "</div>"
      ],
      "text/plain": [
       "              CAMIS       ZIPCODE      Latitude     Longitude  \\\n",
       "count  2.427900e+04  24279.000000  24279.000000  24279.000000   \n",
       "mean   4.710586e+07  10670.524115     40.729517    -73.943762   \n",
       "std    4.191804e+06    594.033711      0.068357      0.075284   \n",
       "min    3.007544e+07  10000.000000     40.499563    -74.248708   \n",
       "25%    4.156782e+07  10022.000000     40.690223    -73.989193   \n",
       "50%    5.004572e+07  10467.000000     40.735760    -73.959633   \n",
       "75%    5.008627e+07  11226.000000     40.762756    -73.904043   \n",
       "max    5.012003e+07  12345.000000     40.912822    -73.700928   \n",
       "\n",
       "       #_of_inspections  \n",
       "count      24279.000000  \n",
       "mean          13.160138  \n",
       "std           10.523260  \n",
       "min            1.000000  \n",
       "25%            5.000000  \n",
       "50%           10.000000  \n",
       "75%           18.000000  \n",
       "max           99.000000  "
      ]
     },
     "execution_count": 12,
     "metadata": {},
     "output_type": "execute_result"
    }
   ],
   "source": [
    "# Check For Outliers:\n",
    "df_filtered.describe()"
   ]
  },
  {
   "cell_type": "code",
   "execution_count": 13,
   "id": "a04c6056",
   "metadata": {},
   "outputs": [],
   "source": [
    "# Convert outliers in number of inspections column to have a value of '70'\n",
    "df_filtered['#_of_inspections'] = np.where(df_filtered['#_of_inspections'].between(\n",
    "    70,98), 70, df_filtered['#_of_inspections'])"
   ]
  },
  {
   "cell_type": "markdown",
   "id": "72e3d407",
   "metadata": {},
   "source": [
    "## 4) Visualizing the Data"
   ]
  },
  {
   "cell_type": "code",
   "execution_count": 14,
   "id": "b7074489",
   "metadata": {},
   "outputs": [],
   "source": [
    "df_cpy=df_filtered"
   ]
  },
  {
   "cell_type": "code",
   "execution_count": 15,
   "id": "78f208d3",
   "metadata": {},
   "outputs": [
    {
     "data": {
      "text/html": [
       "<div>\n",
       "<style scoped>\n",
       "    .dataframe tbody tr th:only-of-type {\n",
       "        vertical-align: middle;\n",
       "    }\n",
       "\n",
       "    .dataframe tbody tr th {\n",
       "        vertical-align: top;\n",
       "    }\n",
       "\n",
       "    .dataframe thead th {\n",
       "        text-align: right;\n",
       "    }\n",
       "</style>\n",
       "<table border=\"1\" class=\"dataframe\">\n",
       "  <thead>\n",
       "    <tr style=\"text-align: right;\">\n",
       "      <th></th>\n",
       "      <th>CAMIS</th>\n",
       "      <th>DBA</th>\n",
       "      <th>BORO</th>\n",
       "      <th>BUILDING</th>\n",
       "      <th>STREET</th>\n",
       "      <th>ZIPCODE</th>\n",
       "      <th>display_phone</th>\n",
       "      <th>CUISINE DESCRIPTION</th>\n",
       "      <th>INSPECTION DATE</th>\n",
       "      <th>ACTION</th>\n",
       "      <th>CRITICAL FLAG</th>\n",
       "      <th>SCORE</th>\n",
       "      <th>GRADE</th>\n",
       "      <th>GRADE DATE</th>\n",
       "      <th>INSPECTION TYPE</th>\n",
       "      <th>Latitude</th>\n",
       "      <th>Longitude</th>\n",
       "      <th>#_of_inspections</th>\n",
       "    </tr>\n",
       "  </thead>\n",
       "  <tbody>\n",
       "    <tr>\n",
       "      <th>0</th>\n",
       "      <td>50075009</td>\n",
       "      <td>#1 GARDEN CHINESE RESTAURANT</td>\n",
       "      <td>Brooklyn</td>\n",
       "      <td>221</td>\n",
       "      <td>PROSPECT PARK WEST</td>\n",
       "      <td>11215.0</td>\n",
       "      <td>(917) 250-8950</td>\n",
       "      <td>Chinese</td>\n",
       "      <td>2019-12-16</td>\n",
       "      <td>Violations were cited in the following area(s).</td>\n",
       "      <td>Not Critical</td>\n",
       "      <td>10.0</td>\n",
       "      <td>A</td>\n",
       "      <td>12/16/2019</td>\n",
       "      <td>Cycle Inspection / Re-inspection</td>\n",
       "      <td>40.660156</td>\n",
       "      <td>-73.980555</td>\n",
       "      <td>29</td>\n",
       "    </tr>\n",
       "    <tr>\n",
       "      <th>1</th>\n",
       "      <td>41336841</td>\n",
       "      <td>#1 SABOR LATINO RESTAURANT</td>\n",
       "      <td>Bronx</td>\n",
       "      <td>4120</td>\n",
       "      <td>WHITE PLAINS ROAD</td>\n",
       "      <td>10466.0</td>\n",
       "      <td>(718) 653-2222</td>\n",
       "      <td>Latin American</td>\n",
       "      <td>2022-03-17</td>\n",
       "      <td>Violations were cited in the following area(s).</td>\n",
       "      <td>Not Critical</td>\n",
       "      <td>40.0</td>\n",
       "      <td>Z</td>\n",
       "      <td>TBD</td>\n",
       "      <td>Cycle Inspection / Initial Inspection</td>\n",
       "      <td>40.891176</td>\n",
       "      <td>-73.858591</td>\n",
       "      <td>15</td>\n",
       "    </tr>\n",
       "    <tr>\n",
       "      <th>2</th>\n",
       "      <td>50086385</td>\n",
       "      <td>$1 PIZZA</td>\n",
       "      <td>Manhattan</td>\n",
       "      <td>832</td>\n",
       "      <td>6 AVENUE</td>\n",
       "      <td>10001.0</td>\n",
       "      <td>(917) 587-8888</td>\n",
       "      <td>Pizza</td>\n",
       "      <td>2022-02-22</td>\n",
       "      <td>Violations were cited in the following area(s).</td>\n",
       "      <td>Critical</td>\n",
       "      <td>7.0</td>\n",
       "      <td>B</td>\n",
       "      <td>02/22/2022</td>\n",
       "      <td>Cycle Inspection / Re-inspection</td>\n",
       "      <td>40.746510</td>\n",
       "      <td>-73.990158</td>\n",
       "      <td>12</td>\n",
       "    </tr>\n",
       "    <tr>\n",
       "      <th>4</th>\n",
       "      <td>50106018</td>\n",
       "      <td>$1 SLICE PIZZA</td>\n",
       "      <td>Bronx</td>\n",
       "      <td>3414</td>\n",
       "      <td>JEROME AVENUE</td>\n",
       "      <td>10467.0</td>\n",
       "      <td>(347) 993-0599</td>\n",
       "      <td>Pizza</td>\n",
       "      <td>2021-11-18</td>\n",
       "      <td>Violations were cited in the following area(s).</td>\n",
       "      <td>Not Critical</td>\n",
       "      <td>11.0</td>\n",
       "      <td>A</td>\n",
       "      <td>11/18/2021</td>\n",
       "      <td>Pre-permit (Operational) / Initial Inspection</td>\n",
       "      <td>40.881253</td>\n",
       "      <td>-73.882900</td>\n",
       "      <td>3</td>\n",
       "    </tr>\n",
       "    <tr>\n",
       "      <th>5</th>\n",
       "      <td>41319107</td>\n",
       "      <td>&amp; MORE BY SHERATON</td>\n",
       "      <td>Queens</td>\n",
       "      <td>13520</td>\n",
       "      <td>39 AVENUE</td>\n",
       "      <td>11354.0</td>\n",
       "      <td>(718) 460-6666</td>\n",
       "      <td>American</td>\n",
       "      <td>2022-01-27</td>\n",
       "      <td>Violations were cited in the following area(s).</td>\n",
       "      <td>Not Critical</td>\n",
       "      <td>12.0</td>\n",
       "      <td>A</td>\n",
       "      <td>01/27/2022</td>\n",
       "      <td>Cycle Inspection / Re-inspection</td>\n",
       "      <td>40.759839</td>\n",
       "      <td>-73.831798</td>\n",
       "      <td>34</td>\n",
       "    </tr>\n",
       "    <tr>\n",
       "      <th>...</th>\n",
       "      <td>...</td>\n",
       "      <td>...</td>\n",
       "      <td>...</td>\n",
       "      <td>...</td>\n",
       "      <td>...</td>\n",
       "      <td>...</td>\n",
       "      <td>...</td>\n",
       "      <td>...</td>\n",
       "      <td>...</td>\n",
       "      <td>...</td>\n",
       "      <td>...</td>\n",
       "      <td>...</td>\n",
       "      <td>...</td>\n",
       "      <td>...</td>\n",
       "      <td>...</td>\n",
       "      <td>...</td>\n",
       "      <td>...</td>\n",
       "      <td>...</td>\n",
       "    </tr>\n",
       "    <tr>\n",
       "      <th>27476</th>\n",
       "      <td>50103228</td>\n",
       "      <td>kokomo restaurant</td>\n",
       "      <td>Brooklyn</td>\n",
       "      <td>65</td>\n",
       "      <td>KENT AVENUE</td>\n",
       "      <td>11249.0</td>\n",
       "      <td>(347) 743-9839</td>\n",
       "      <td>Caribbean</td>\n",
       "      <td>2022-01-12</td>\n",
       "      <td>Violations were cited in the following area(s).</td>\n",
       "      <td>Not Critical</td>\n",
       "      <td>19.0</td>\n",
       "      <td>N</td>\n",
       "      <td>TBD</td>\n",
       "      <td>Pre-permit (Operational) / Initial Inspection</td>\n",
       "      <td>40.722050</td>\n",
       "      <td>-73.959840</td>\n",
       "      <td>5</td>\n",
       "    </tr>\n",
       "    <tr>\n",
       "      <th>27478</th>\n",
       "      <td>50007379</td>\n",
       "      <td>matchpointnyc</td>\n",
       "      <td>Brooklyn</td>\n",
       "      <td>2781</td>\n",
       "      <td>SHELL ROAD</td>\n",
       "      <td>11223.0</td>\n",
       "      <td>(718) 769-0001</td>\n",
       "      <td>Soups/Salads/Sandwiches</td>\n",
       "      <td>2022-03-04</td>\n",
       "      <td>Violations were cited in the following area(s).</td>\n",
       "      <td>Not Critical</td>\n",
       "      <td>12.0</td>\n",
       "      <td>A</td>\n",
       "      <td>03/04/2022</td>\n",
       "      <td>Cycle Inspection / Re-inspection</td>\n",
       "      <td>40.584497</td>\n",
       "      <td>-73.974514</td>\n",
       "      <td>10</td>\n",
       "    </tr>\n",
       "    <tr>\n",
       "      <th>27480</th>\n",
       "      <td>50107134</td>\n",
       "      <td>red bamboo</td>\n",
       "      <td>Manhattan</td>\n",
       "      <td>140</td>\n",
       "      <td>WEST    4 STREET</td>\n",
       "      <td>10012.0</td>\n",
       "      <td>(212) 260-1212</td>\n",
       "      <td>Chinese</td>\n",
       "      <td>2021-11-09</td>\n",
       "      <td>Violations were cited in the following area(s).</td>\n",
       "      <td>Not Critical</td>\n",
       "      <td>10.0</td>\n",
       "      <td>A</td>\n",
       "      <td>11/09/2021</td>\n",
       "      <td>Pre-permit (Operational) / Initial Inspection</td>\n",
       "      <td>40.731373</td>\n",
       "      <td>-74.000314</td>\n",
       "      <td>2</td>\n",
       "    </tr>\n",
       "    <tr>\n",
       "      <th>27483</th>\n",
       "      <td>50008073</td>\n",
       "      <td>tutto il giorno</td>\n",
       "      <td>Manhattan</td>\n",
       "      <td>114</td>\n",
       "      <td>FRANKLIN STREET</td>\n",
       "      <td>10013.0</td>\n",
       "      <td>(212) 274-8100</td>\n",
       "      <td>Italian</td>\n",
       "      <td>2020-02-05</td>\n",
       "      <td>Violations were cited in the following area(s).</td>\n",
       "      <td>Critical</td>\n",
       "      <td>5.0</td>\n",
       "      <td>A</td>\n",
       "      <td>02/05/2020</td>\n",
       "      <td>Cycle Inspection / Re-inspection</td>\n",
       "      <td>40.718626</td>\n",
       "      <td>-74.006082</td>\n",
       "      <td>11</td>\n",
       "    </tr>\n",
       "    <tr>\n",
       "      <th>27486</th>\n",
       "      <td>50086236</td>\n",
       "      <td>wok and roll kitchen</td>\n",
       "      <td>Brooklyn</td>\n",
       "      <td>1821</td>\n",
       "      <td>CHURCH AVENUE</td>\n",
       "      <td>11226.0</td>\n",
       "      <td>(718) 282-1188</td>\n",
       "      <td>Other</td>\n",
       "      <td>2019-03-27</td>\n",
       "      <td>Violations were cited in the following area(s).</td>\n",
       "      <td>Not Critical</td>\n",
       "      <td>10.0</td>\n",
       "      <td>A</td>\n",
       "      <td>03/27/2019</td>\n",
       "      <td>Pre-permit (Operational) / Initial Inspection</td>\n",
       "      <td>40.649543</td>\n",
       "      <td>-73.962820</td>\n",
       "      <td>2</td>\n",
       "    </tr>\n",
       "  </tbody>\n",
       "</table>\n",
       "<p>24279 rows × 18 columns</p>\n",
       "</div>"
      ],
      "text/plain": [
       "          CAMIS                           DBA       BORO BUILDING  \\\n",
       "0      50075009  #1 GARDEN CHINESE RESTAURANT   Brooklyn      221   \n",
       "1      41336841    #1 SABOR LATINO RESTAURANT      Bronx     4120   \n",
       "2      50086385                      $1 PIZZA  Manhattan      832   \n",
       "4      50106018                $1 SLICE PIZZA      Bronx     3414   \n",
       "5      41319107            & MORE BY SHERATON     Queens    13520   \n",
       "...         ...                           ...        ...      ...   \n",
       "27476  50103228             kokomo restaurant   Brooklyn       65   \n",
       "27478  50007379                 matchpointnyc   Brooklyn     2781   \n",
       "27480  50107134                    red bamboo  Manhattan      140   \n",
       "27483  50008073               tutto il giorno  Manhattan      114   \n",
       "27486  50086236          wok and roll kitchen   Brooklyn     1821   \n",
       "\n",
       "                   STREET  ZIPCODE   display_phone      CUISINE DESCRIPTION  \\\n",
       "0      PROSPECT PARK WEST  11215.0  (917) 250-8950                  Chinese   \n",
       "1       WHITE PLAINS ROAD  10466.0  (718) 653-2222           Latin American   \n",
       "2                6 AVENUE  10001.0  (917) 587-8888                    Pizza   \n",
       "4           JEROME AVENUE  10467.0  (347) 993-0599                    Pizza   \n",
       "5               39 AVENUE  11354.0  (718) 460-6666                 American   \n",
       "...                   ...      ...             ...                      ...   \n",
       "27476         KENT AVENUE  11249.0  (347) 743-9839                Caribbean   \n",
       "27478          SHELL ROAD  11223.0  (718) 769-0001  Soups/Salads/Sandwiches   \n",
       "27480    WEST    4 STREET  10012.0  (212) 260-1212                  Chinese   \n",
       "27483     FRANKLIN STREET  10013.0  (212) 274-8100                  Italian   \n",
       "27486       CHURCH AVENUE  11226.0  (718) 282-1188                    Other   \n",
       "\n",
       "      INSPECTION DATE                                           ACTION  \\\n",
       "0          2019-12-16  Violations were cited in the following area(s).   \n",
       "1          2022-03-17  Violations were cited in the following area(s).   \n",
       "2          2022-02-22  Violations were cited in the following area(s).   \n",
       "4          2021-11-18  Violations were cited in the following area(s).   \n",
       "5          2022-01-27  Violations were cited in the following area(s).   \n",
       "...               ...                                              ...   \n",
       "27476      2022-01-12  Violations were cited in the following area(s).   \n",
       "27478      2022-03-04  Violations were cited in the following area(s).   \n",
       "27480      2021-11-09  Violations were cited in the following area(s).   \n",
       "27483      2020-02-05  Violations were cited in the following area(s).   \n",
       "27486      2019-03-27  Violations were cited in the following area(s).   \n",
       "\n",
       "      CRITICAL FLAG SCORE GRADE  GRADE DATE  \\\n",
       "0      Not Critical  10.0     A  12/16/2019   \n",
       "1      Not Critical  40.0     Z         TBD   \n",
       "2          Critical   7.0     B  02/22/2022   \n",
       "4      Not Critical  11.0     A  11/18/2021   \n",
       "5      Not Critical  12.0     A  01/27/2022   \n",
       "...             ...   ...   ...         ...   \n",
       "27476  Not Critical  19.0     N         TBD   \n",
       "27478  Not Critical  12.0     A  03/04/2022   \n",
       "27480  Not Critical  10.0     A  11/09/2021   \n",
       "27483      Critical   5.0     A  02/05/2020   \n",
       "27486  Not Critical  10.0     A  03/27/2019   \n",
       "\n",
       "                                     INSPECTION TYPE   Latitude  Longitude  \\\n",
       "0                   Cycle Inspection / Re-inspection  40.660156 -73.980555   \n",
       "1              Cycle Inspection / Initial Inspection  40.891176 -73.858591   \n",
       "2                   Cycle Inspection / Re-inspection  40.746510 -73.990158   \n",
       "4      Pre-permit (Operational) / Initial Inspection  40.881253 -73.882900   \n",
       "5                   Cycle Inspection / Re-inspection  40.759839 -73.831798   \n",
       "...                                              ...        ...        ...   \n",
       "27476  Pre-permit (Operational) / Initial Inspection  40.722050 -73.959840   \n",
       "27478               Cycle Inspection / Re-inspection  40.584497 -73.974514   \n",
       "27480  Pre-permit (Operational) / Initial Inspection  40.731373 -74.000314   \n",
       "27483               Cycle Inspection / Re-inspection  40.718626 -74.006082   \n",
       "27486  Pre-permit (Operational) / Initial Inspection  40.649543 -73.962820   \n",
       "\n",
       "       #_of_inspections  \n",
       "0                    29  \n",
       "1                    15  \n",
       "2                    12  \n",
       "4                     3  \n",
       "5                    34  \n",
       "...                 ...  \n",
       "27476                 5  \n",
       "27478                10  \n",
       "27480                 2  \n",
       "27483                11  \n",
       "27486                 2  \n",
       "\n",
       "[24279 rows x 18 columns]"
      ]
     },
     "execution_count": 15,
     "metadata": {},
     "output_type": "execute_result"
    }
   ],
   "source": [
    "df_cpy"
   ]
  },
  {
   "cell_type": "code",
   "execution_count": 16,
   "id": "8b321aad",
   "metadata": {},
   "outputs": [
    {
     "data": {
      "image/png": "[encoded data removed]",
      "text/plain": [
       "<Figure size 1080x720 with 1 Axes>"
      ]
     },
     "metadata": {
      "needs_background": "light"
     },
     "output_type": "display_data"
    }
   ],
   "source": [
    "# Replace the long description for Latin restuarants with 'Latin'\n",
    "df_cpy['CUISINE DESCRIPTION'].replace(\n",
    "    {'Latin (Cuban, Dominican, Puerto Rican, South & Central American)':'Latin'},inplace=True)\n",
    "\n",
    "# Create a list of the 20 most frequent cuisine types:\n",
    "cuisine_type = df_cpy['CUISINE DESCRIPTION'].value_counts()[:20].index.tolist()\n",
    "\n",
    "# Create a temporary dataframe including only restaurants that are in the 20 most popular cuisine types:\n",
    "df_cpy_cuis = df_cpy.loc[df_cpy['CUISINE DESCRIPTION'].isin(cuisine_type)].copy()\n",
    "\n",
    "# Create a horizontal bar chart comparing the # of each grade inspections in each cuisine type:\n",
    "plt.figure(figsize=(15,10))\n",
    "sns.countplot(data=df_cpy_cuis, y='CUISINE DESCRIPTION', \n",
    "              order = df_cpy_cuis['CUISINE DESCRIPTION'].value_counts().index,palette='Blues_r')\n",
    "# Add chart title and labels\n",
    "plt.title('# of Restaurants in Each Cuisine Type', fontsize=20)\n",
    "plt.xlabel('# of Restaurants', fontsize=14)\n",
    "plt.ylabel('Cuisine Type', fontsize=14);"
   ]
  },
  {
   "cell_type": "markdown",
   "id": "e5fea7cf",
   "metadata": {},
   "source": [
    "### 4.1) Borough"
   ]
  },
  {
   "cell_type": "markdown",
   "id": "4bb1e058",
   "metadata": {},
   "source": [
    "While not all restaurants have an inspection grade yet (some are still pending or not graded yet), let's see how many restaurants in each borough have been given an inspection grade."
   ]
  },
  {
   "cell_type": "code",
   "execution_count": 17,
   "id": "dabc1c01",
   "metadata": {},
   "outputs": [
    {
     "name": "stdout",
     "output_type": "stream",
     "text": [
      "# Of Restaurants Per Borough: \n",
      " BORO\n",
      "Manhattan        7640\n",
      "Brooklyn         4778\n",
      "Queens           4344\n",
      "Bronx            1769\n",
      "Staten Island     685\n",
      "Name: GRADE, dtype: int64\n"
     ]
    }
   ],
   "source": [
    "# Create a temporary dataframe that includes only the restaurants that have been given an inspection grade:\n",
    "df_filtered_temp = df_filtered.loc[df_filtered['GRADE'].isin(['A','B','C'])].copy()\n",
    "\n",
    "# List in descending order the number of inspected restaurants in each borough:\n",
    "print('# Of Restaurants Per Borough:','\\n',\n",
    "      df_filtered_temp['GRADE'].groupby(df_filtered_temp['BORO']).count().sort_values(ascending=False))"
   ]
  },
  {
   "cell_type": "markdown",
   "id": "d3175909",
   "metadata": {},
   "source": [
    "It looks like Manhattan has the most graded restaurants, followed by Brooklyn, Queens, the Bronx, and finally Staten Island"
   ]
  },
  {
   "cell_type": "markdown",
   "id": "f7ee33a6",
   "metadata": {},
   "source": [
    "Let's now take a look at which grades the graded restaurants earned by each borough."
   ]
  },
  {
   "cell_type": "code",
   "execution_count": 18,
   "id": "d901cc21",
   "metadata": {},
   "outputs": [
    {
     "data": {
      "image/png": "[encoded data removed]",
      "text/plain": [
       "<Figure size 1080x576 with 1 Axes>"
      ]
     },
     "metadata": {
      "needs_background": "light"
     },
     "output_type": "display_data"
    }
   ],
   "source": [
    "# Create a bar chart comparing the # of each grade inspections in each borough:\n",
    "plt.figure(figsize=(15,8))\n",
    "sns.countplot(data=df_filtered_temp, x='BORO',hue='GRADE')\n",
    "\n",
    "# Add chart title and labels\n",
    "plt.title('Inspection Grade By Borough', fontsize=20)\n",
    "plt.xlabel('Borough', fontsize=14)\n",
    "plt.ylabel('# of Restaurants', fontsize=14);"
   ]
  },
  {
   "cell_type": "markdown",
   "id": "38a4a0b4",
   "metadata": {},
   "source": [
    "It looks like the majority of restaurants have an 'A' inspection grade, and a 'C' grade is given to the least number of restaurants in each borough."
   ]
  },
  {
   "cell_type": "markdown",
   "id": "752bc0ac",
   "metadata": {},
   "source": [
    "Many of the restaurants have had multiple inspections recorded. Let's see if certain boroughs are more likely to have many inspections."
   ]
  },
  {
   "cell_type": "code",
   "execution_count": 19,
   "id": "abaec60f",
   "metadata": {},
   "outputs": [
    {
     "data": {
      "image/png": "[encoded data removed]",
      "text/plain": [
       "<Figure size 864x432 with 1 Axes>"
      ]
     },
     "metadata": {
      "needs_background": "light"
     },
     "output_type": "display_data"
    }
   ],
   "source": [
    "# Define a function that will create ranges representing the value in the count column:\n",
    "def count_range(x):\n",
    "    '''This function will replace a numerical value with a corresponding range label.'''\n",
    "    if x == 1:\n",
    "        return '1'\n",
    "    elif 2<=x<=5:\n",
    "        return '2-5'\n",
    "    elif 6<=x<=10:\n",
    "        return '6-10'\n",
    "    elif 11<=x<=20:\n",
    "        return '11-20'\n",
    "    elif 21<=x<=30:\n",
    "        return '21-30'\n",
    "    else:\n",
    "        return '31+'\n",
    "\n",
    "# Add a new column that gives a range of the number of visits based on the '#_of_inspections' column:\n",
    "df_filtered['count_range'] = df_filtered['#_of_inspections'].apply(lambda x: count_range(x))\n",
    "\n",
    "# Create a bar chart comparing the % of inspection visits for each borough:\n",
    "x,y = 'BORO', 'count_range'\n",
    "(df_filtered.groupby(x)[y]\n",
    "                     .value_counts(normalize=True)\n",
    "                     .rename('Percent of Visits')\n",
    "                     .mul(100)\n",
    "                     .reset_index()\n",
    "                     .pipe((sns.catplot,'data'), x=x,y='Percent of Visits',hue=y,kind='bar',\n",
    "                           hue_order = ['1','2-5','6-10','11-20','21-30','31+'],height=6, aspect=2, legend=False))\n",
    "\n",
    "# Add chart title, labels, and legend\n",
    "plt.title('% of Inspection Visits By Borough', fontsize=20)\n",
    "plt.legend(loc='upper right', title = '# of Inspections', bbox_to_anchor=(1.1, 1))\n",
    "plt.xlabel('Borough', fontsize=14)\n",
    "plt.xticks(rotation='vertical');"
   ]
  },
  {
   "cell_type": "markdown",
   "id": "34803c35",
   "metadata": {},
   "source": [
    "We see a similar trend across all boroughs, with 11-20 visits being most common, followed by 6-10 visits. Having only 1 visit is typically the least common. This is not too surprising as restaurants can expect to get an inspection at least once a year and therefore even restaurants with an A grading and no violations will likely have as many inspections as years they have been in business."
   ]
  },
  {
   "cell_type": "code",
   "execution_count": 20,
   "id": "685454a7",
   "metadata": {
    "scrolled": true
   },
   "outputs": [
    {
     "name": "stdout",
     "output_type": "stream",
     "text": [
      "# Of Restaurants Per Borough: \n",
      " BORO\n",
      "Manhattan        9575\n",
      "Brooklyn         6101\n",
      "Queens           5451\n",
      "Bronx            2286\n",
      "Staten Island     866\n",
      "Name: GRADE, dtype: int64\n"
     ]
    }
   ],
   "source": [
    "print('# Of Restaurants Per Borough:','\\n',\n",
    "      df_filtered['GRADE'].groupby(df_filtered['BORO']).count().sort_values(ascending=False))"
   ]
  },
  {
   "cell_type": "markdown",
   "id": "8378cb38",
   "metadata": {},
   "source": [
    "### 4.2) Cuisine Type"
   ]
  },
  {
   "cell_type": "code",
   "execution_count": 21,
   "id": "21e11bc0",
   "metadata": {},
   "outputs": [
    {
     "data": {
      "image/png": "[encoded data removed]",
      "text/plain": [
       "<Figure size 1080x720 with 1 Axes>"
      ]
     },
     "metadata": {
      "needs_background": "light"
     },
     "output_type": "display_data"
    }
   ],
   "source": [
    "# Replace the long description for Latin restuarants with 'Latin'\n",
    "df_filtered['CUISINE DESCRIPTION'].replace(\n",
    "    {'Latin (Cuban, Dominican, Puerto Rican, South & Central American)':'Latin'},inplace=True)\n",
    "\n",
    "# Create a list of the 20 most frequent cuisine types:\n",
    "cuisine_type = df_filtered['CUISINE DESCRIPTION'].value_counts()[:20].index.tolist()\n",
    "\n",
    "# Create a temporary dataframe including only restaurants that are in the 20 most popular cuisine types:\n",
    "df_filtered_cuis = df_filtered.loc[df_filtered['CUISINE DESCRIPTION'].isin(cuisine_type)].copy()\n",
    "\n",
    "# Create a horizontal bar chart comparing the # of each grade inspections in each cuisine type:\n",
    "plt.figure(figsize=(15,10))\n",
    "sns.countplot(data=df_filtered_cuis, y='CUISINE DESCRIPTION', \n",
    "              order = df_filtered_cuis['CUISINE DESCRIPTION'].value_counts().index,palette='Blues_r')\n",
    "# Add chart title and labels\n",
    "plt.title('# of Restaurants in Each Cuisine Type', fontsize=20)\n",
    "plt.xlabel('# of Restaurants', fontsize=14)\n",
    "plt.ylabel('Cuisine Type', fontsize=14);"
   ]
  },
  {
   "cell_type": "markdown",
   "id": "e9a7318c",
   "metadata": {},
   "source": [
    "The top 5 most popular cuisines are American, Chinese, Coffee/Tea, Pizza and Italian"
   ]
  },
  {
   "cell_type": "markdown",
   "id": "a380d448",
   "metadata": {},
   "source": [
    "Let's now see how inspection grades vary by cuisine."
   ]
  },
  {
   "cell_type": "code",
   "execution_count": 22,
   "id": "0f2258ba",
   "metadata": {},
   "outputs": [
    {
     "data": {
      "image/png": "[encoded data removed]",
      "text/plain": [
       "<Figure size 1080x576 with 1 Axes>"
      ]
     },
     "metadata": {
      "needs_background": "light"
     },
     "output_type": "display_data"
    }
   ],
   "source": [
    "# Create a stacked bar chart comparing the # of each grade inspections in each cuisine type:\n",
    "df_plot = df_filtered_cuis.groupby(['GRADE', 'CUISINE DESCRIPTION']).size().reset_index().pivot(columns='GRADE', index='CUISINE DESCRIPTION', values=0)\n",
    "df_plot.plot(kind='bar', stacked=True,figsize=(15,8))\n",
    "\n",
    "# Add chart title and labels\n",
    "plt.title('Inspection Grade By Cuisine', fontsize=20)\n",
    "plt.ylabel('# of Inspection Grade', fontsize=14)\n",
    "plt.xlabel('Cuisine Type', fontsize=14);"
   ]
  },
  {
   "cell_type": "markdown",
   "id": "cdadd979",
   "metadata": {},
   "source": [
    "Overall, most restaurants appear to primarily consist of 'A' grades. In particular, there are a lot of 'A' grades for our most populous cuisine types: American, Coffee/Tea, Chinese, and Pizza. We also see a good amount of restaurants with pending grades ('Z') in these same categories.\n",
    "\n",
    "Let's see if any particular cuisines have a greater amount of inspection visits than others."
   ]
  },
  {
   "cell_type": "code",
   "execution_count": 23,
   "id": "d1ac9bb9",
   "metadata": {},
   "outputs": [
    {
     "data": {
      "image/png": "[encoded data removed]",
      "text/plain": [
       "<Figure size 864x432 with 1 Axes>"
      ]
     },
     "metadata": {
      "needs_background": "light"
     },
     "output_type": "display_data"
    }
   ],
   "source": [
    "# Add a new column that gives a range of the number of visits based on the '#_of_inspections' column:\n",
    "df_filtered_cuis['count_range'] = df_filtered_cuis['#_of_inspections'].apply(lambda x: count_range(x))\n",
    "\n",
    "# Create a bar chart comparing the % of inspection visits for each cuisine:\n",
    "x,y = 'CUISINE DESCRIPTION', 'count_range'\n",
    "(df_filtered_cuis.groupby(x)[y]\n",
    "                     .value_counts(normalize=True)\n",
    "                     .rename('Percent of Visits')\n",
    "                     .mul(100)\n",
    "                     .reset_index()\n",
    "                     .pipe((sns.catplot,'data'), x=x,y='Percent of Visits',hue=y,kind='bar',\n",
    "                           hue_order = ['1','2-5','6-10','11-20','21-30','31+'],height=6, aspect=2, legend=False))\n",
    "\n",
    "# Add chart title and legend\n",
    "plt.title('% of Inspection Visits By Cuisine', fontsize=20)\n",
    "plt.legend(loc='upper right', title='# of Inspections')\n",
    "plt.xticks(rotation='vertical');"
   ]
  },
  {
   "cell_type": "markdown",
   "id": "f4fe279e",
   "metadata": {},
   "source": [
    "It looks like 'Coffee/Tea', 'Juice, Smoothies, Fruit Salads', and 'Other' have more restaurants with fewer inspection visits, indicating they either have fewer violations or they consist of a lot of newer restaurants and therefore have not had as many visits yet. Latin American, Chinese, and Thai seem to have the greatest number of inspection visits."
   ]
  },
  {
   "cell_type": "code",
   "execution_count": 24,
   "id": "9672b2b5",
   "metadata": {},
   "outputs": [
    {
     "data": {
      "image/png": "[encoded data removed]",
      "text/plain": [
       "<Figure size 864x432 with 1 Axes>"
      ]
     },
     "metadata": {},
     "output_type": "display_data"
    }
   ],
   "source": [
    "# Plot a pie chart that shows the breakout of each grade:\n",
    "plt.figure(figsize=(12,6))\n",
    "df_filtered_cuis['GRADE'].value_counts().plot(kind='pie')\n",
    "plt.title('% Of Each Grade', fontsize=20);"
   ]
  },
  {
   "cell_type": "markdown",
   "id": "1602133a",
   "metadata": {},
   "source": [
    "The vast majority of our restaurants appear to have 'A' grades."
   ]
  },
  {
   "cell_type": "markdown",
   "id": "1b8173ba",
   "metadata": {},
   "source": [
    "Now let's see if certain grades (including pending grades) are likely to have more or less inspection visits."
   ]
  },
  {
   "cell_type": "code",
   "execution_count": 25,
   "id": "e1b5c7e4",
   "metadata": {},
   "outputs": [
    {
     "data": {
      "image/png": "[encoded data removed]",
      "text/plain": [
       "<Figure size 864x432 with 1 Axes>"
      ]
     },
     "metadata": {
      "needs_background": "light"
     },
     "output_type": "display_data"
    }
   ],
   "source": [
    "# Create a bar chart comparing the % of inspection visits for each grade:\n",
    "x,y = 'GRADE', 'count_range'\n",
    "(df_filtered_cuis.groupby(x)[y]\n",
    "                     .value_counts(normalize=True)\n",
    "                     .rename('Percent of Visits')\n",
    "                     .mul(100)\n",
    "                     .reset_index()\n",
    "                     .pipe((sns.catplot,'data'), x=x,y='Percent of Visits',hue=y,kind='bar', \n",
    "                           hue_order = ['1','2-5','6-10','11-20','21-30','31+'],height=6, aspect=2, legend=False))\n",
    "\n",
    "# Add chart title and legend:\n",
    "plt.title('% of Inspection Visits By Grade', fontsize=20)\n",
    "plt.legend(loc='upper right', title='# of Inspections');"
   ]
  },
  {
   "cell_type": "markdown",
   "id": "c7d2a981",
   "metadata": {},
   "source": [
    "Those restaurants that are not yet graded (N) are most likely to only have 2-5 visits, likely because they are new restaurants. We also see that restaurants with a 'B' or 'C' grade are likely to have more inspection visits than restaurants with an 'A' grade, likely because these restaurants have violations (leading to their 'B' or 'C' grades) and therefore needed extra inspections."
   ]
  },
  {
   "cell_type": "markdown",
   "id": "159eca55",
   "metadata": {},
   "source": [
    "## 5) Classification Algorithms"
   ]
  },
  {
   "cell_type": "markdown",
   "id": "d0e74a0d",
   "metadata": {},
   "source": [
    "Many of our data columns are currently filled with categorical data, which our model will be unable to read. Therefore, we have to update the data to be numerical. We will use one-hot encoding to turn each category within a column into its own column with numerical data that our model is able to properly use."
   ]
  },
  {
   "cell_type": "markdown",
   "id": "50c1843b",
   "metadata": {},
   "source": [
    "#### One Hot Encoding of Categorical data"
   ]
  },
  {
   "cell_type": "code",
   "execution_count": 29,
   "id": "60cc74ab",
   "metadata": {},
   "outputs": [],
   "source": [
    "def preprocess_inputs(df):\n",
    "    df = df.copy()\n",
    "    \n",
    "    # Drop CAMIS and DBA columns\n",
    "    df = df.drop(['CAMIS', 'DBA'], axis=1)\n",
    "    \n",
    "    # Drop columns with more than 25% missing values\n",
    "    missing_value_columns = df.columns[df.isna().mean() >= 0.25]\n",
    "    df = df.drop(missing_value_columns, axis=1)\n",
    "    \n",
    "    # Drop high-cardinality columns\n",
    "    high_cardinality_columns = [\n",
    "        'BUILDING',\n",
    "        'STREET',\n",
    "        'display_phone'\n",
    "    ]\n",
    "    df = df.drop(high_cardinality_columns, axis=1)\n",
    "    \n",
    "    # Convert ZIPCODE column into a string column\n",
    "    df['ZIPCODE'] = df['ZIPCODE'].astype(str)\n",
    "    \n",
    "    # Extract date features\n",
    "    df['INSPECTION DATE'] = pd.to_datetime(df['INSPECTION DATE'])\n",
    "    df['INSPECTION YEAR'] = df['INSPECTION DATE'].apply(lambda x: x.year)\n",
    "    df['INSPECTION MONTH'] = df['INSPECTION DATE'].apply(lambda x: x.month)\n",
    "    df['INSPECTION DAY'] = df['INSPECTION DATE'].apply(lambda x: x.day)\n",
    "    df = df.drop('INSPECTION DATE', axis=1)\n",
    "    \n",
    "    # One-hot encode remaining categorical columns\n",
    "    for column in df.select_dtypes('object').columns.drop('CRITICAL FLAG'):\n",
    "        dummies = pd.get_dummies(df[column], prefix=column)\n",
    "        df = pd.concat([df, dummies], axis=1)\n",
    "        df = df.drop(column, axis=1)\n",
    "    \n",
    "    # Split df into X and y\n",
    "    y = df['CRITICAL FLAG']\n",
    "    X = df.drop('CRITICAL FLAG', axis=1)\n",
    "    \n",
    "    # Train-test split\n",
    "    X_train, X_rem, y_train, y_rem = train_test_split(X, y, train_size=0.8, shuffle=True, random_state=1)\n",
    "    \n",
    "    # Scale X\n",
    "    scaler = StandardScaler()\n",
    "    scaler.fit(X_train)\n",
    "    X_train = pd.DataFrame(scaler.transform(X_train), index=X_train.index, columns=X_train.columns)\n",
    "    X_rem = pd.DataFrame(scaler.transform(X_rem), index=X_rem.index, columns=X_rem.columns)\n",
    "    \n",
    "    return X_train, X_rem, y_train, y_rem\n"
   ]
  },
  {
   "cell_type": "code",
   "execution_count": 30,
   "id": "7f9467c0",
   "metadata": {},
   "outputs": [],
   "source": [
    "def preprocess_inputs_rf(df):\n",
    "    df = df.copy()\n",
    "    \n",
    "    # Drop CAMIS and DBA columns\n",
    "    df = df.drop(['CAMIS', 'DBA'], axis=1)\n",
    "    \n",
    "    # Drop columns with more than 25% missing values\n",
    "    missing_value_columns = df.columns[df.isna().mean() >= 0.25]\n",
    "    df = df.drop(missing_value_columns, axis=1)\n",
    "    \n",
    "    # Drop high-cardinality columns\n",
    "    high_cardinality_columns = [\n",
    "        'BUILDING',\n",
    "        'STREET',\n",
    "        'display_phone'\n",
    "    ]\n",
    "    df = df.drop(high_cardinality_columns, axis=1)\n",
    "    \n",
    "    # Convert ZIPCODE column into a string column\n",
    "    df['ZIPCODE'] = df['ZIPCODE'].astype(str)\n",
    "    \n",
    "    # Extract date features\n",
    "    df['INSPECTION DATE'] = pd.to_datetime(df['INSPECTION DATE'])\n",
    "    df['INSPECTION YEAR'] = df['INSPECTION DATE'].apply(lambda x: x.year)\n",
    "    df['INSPECTION MONTH'] = df['INSPECTION DATE'].apply(lambda x: x.month)\n",
    "    df['INSPECTION DAY'] = df['INSPECTION DATE'].apply(lambda x: x.day)\n",
    "    df = df.drop('INSPECTION DATE', axis=1)\n",
    "    \n",
    "    # Split df into X and y\n",
    "    y = df['CRITICAL FLAG']\n",
    "    X = df.drop('CRITICAL FLAG', axis=1)\n",
    "    \n",
    "    # Train-test split\n",
    "    X_train, X_rem, y_train, y_rem = train_test_split(X, y, train_size=0.8, shuffle=True, random_state=1)\n",
    "    \n",
    "    # Scale X\n",
    "    scaler = StandardScaler()\n",
    "    scaler.fit(X_train)\n",
    "    X_train = pd.DataFrame(scaler.transform(X_train), index=X_train.index, columns=X_train.columns)\n",
    "    X_rem = pd.DataFrame(scaler.transform(X_rem), index=X_rem.index, columns=X_rem.columns)\n",
    "    \n",
    "    return X_train, X_rem, y_train, y_rem\n"
   ]
  },
  {
   "cell_type": "markdown",
   "id": "eef3c904",
   "metadata": {},
   "source": [
    "#### Divide dataset into train (80%), dev(10%) and test(10%)"
   ]
  },
  {
   "cell_type": "code",
   "execution_count": 31,
   "id": "e8da4bfb",
   "metadata": {
    "scrolled": true
   },
   "outputs": [],
   "source": [
    "X_train, X_rem, y_train, y_rem = preprocess_inputs(df_filtered_cuis)"
   ]
  },
  {
   "cell_type": "code",
   "execution_count": 32,
   "id": "32a5c875",
   "metadata": {},
   "outputs": [],
   "source": [
    "# Splitting remaining data into development and test dataset\n",
    "X_dev, X_test, y_dev, y_test = train_test_split(X_rem, y_rem, train_size=0.5, shuffle=True, random_state=1)"
   ]
  },
  {
   "cell_type": "code",
   "execution_count": 33,
   "id": "a69d0fe4",
   "metadata": {},
   "outputs": [
    {
     "name": "stdout",
     "output_type": "stream",
     "text": [
      "(15752, 956)\n",
      "(15752,)\n",
      "(1969, 956)\n",
      "(1969,)\n",
      "(1970, 956)\n",
      "(1970,)\n"
     ]
    },
    {
     "data": {
      "text/plain": [
       "(None, None)"
      ]
     },
     "execution_count": 33,
     "metadata": {},
     "output_type": "execute_result"
    }
   ],
   "source": [
    "print(X_train.shape), print(y_train.shape)\n",
    "print(X_dev.shape), print(y_dev.shape)\n",
    "print(X_test.shape), print(y_test.shape)"
   ]
  },
  {
   "cell_type": "markdown",
   "id": "9ac42119",
   "metadata": {},
   "source": [
    "## Comparing Models"
   ]
  },
  {
   "cell_type": "code",
   "execution_count": 34,
   "id": "4e9832b2",
   "metadata": {},
   "outputs": [],
   "source": [
    "from sklearn.model_selection import GridSearchCV\n",
    "from sklearn.metrics import accuracy_score, confusion_matrix, f1_score, classification_report\n",
    "from sklearn.metrics import plot_confusion_matrix\n",
    "from sklearn.ensemble import RandomForestClassifier\n",
    "import itertools"
   ]
  },
  {
   "cell_type": "code",
   "execution_count": 35,
   "id": "e0cb5b87",
   "metadata": {},
   "outputs": [],
   "source": [
    "# Define Confusion Matrix:\n",
    "def confusion_matrix_plot(cm, classes,\n",
    "                          normalize=False,\n",
    "                          title='Confusion matrix',\n",
    "                          cmap=plt.cm.Blues):\n",
    "    '''This function will create a confusion matrix chart which shows the accuracy breakdown of the given model.\n",
    "    Inputs:\n",
    "        cm: confusion matrix function for tested and predicted y values\n",
    "        classes: variables to identify for each class (0 or 1)\n",
    "        normalize: if True will normalize the data, if False will not normalize the data\n",
    "        title: title of the chart\n",
    "        cmap: colors to plot\n",
    "    Returns:\n",
    "        A graph that represents the confusion matrix\n",
    "    '''\n",
    "   \n",
    "    plt.imshow(cm, interpolation='nearest', cmap=cmap)\n",
    "    \n",
    "    # Add title and labels:\n",
    "    plt.title(title)\n",
    "    plt.ylabel('True label')\n",
    "    plt.xlabel('Predicted label')\n",
    "    \n",
    "    # Add axis scales and tick marks:\n",
    "    tick_marks = np.arange(len(classes))\n",
    "    plt.xticks(tick_marks, classes, rotation=45)\n",
    "    plt.yticks(tick_marks, classes)\n",
    "    \n",
    "    # Add labels to each cell:\n",
    "    thresh = cm.max() / 2.\n",
    "    # Iterate through confusion matrix and append labels to the plot:\n",
    "    for i, j in itertools.product(range(cm.shape[0]), range(cm.shape[1])):\n",
    "        plt.text(j, i, cm[i, j],\n",
    "                 horizontalalignment='center',\n",
    "                 color='white' if cm[i, j] > thresh else 'black')\n",
    "        \n",
    "    # Add legend:\n",
    "    plt.colorbar()\n",
    "    plt.show()\n",
    "    \n",
    "# Use High Rating and Low Rating  for 0 and 1 classes \n",
    "class_names = ['Critical','Not Applicable','Non-Critical']\n"
   ]
  },
  {
   "cell_type": "markdown",
   "id": "eaff0aa2",
   "metadata": {},
   "source": [
    "### 1) Logistic Regression"
   ]
  },
  {
   "cell_type": "code",
   "execution_count": 36,
   "id": "39a50316",
   "metadata": {},
   "outputs": [],
   "source": [
    "from sklearn.metrics import balanced_accuracy_score"
   ]
  },
  {
   "cell_type": "code",
   "execution_count": 37,
   "id": "0ba6e1b3",
   "metadata": {},
   "outputs": [
    {
     "name": "stdout",
     "output_type": "stream",
     "text": [
      "Logistic Regression Train Accuracy:  79.37742835418318 %\n",
      "Logistic Regession Dev Accuracy:  71.59572195861159 %\n",
      "                precision    recall  f1-score   support\n",
      "\n",
      "      Critical       0.64      0.73      0.68      1020\n",
      "Not Applicable       1.00      0.87      0.93        23\n",
      "  Not Critical       0.65      0.55      0.59       926\n",
      "\n",
      "      accuracy                           0.65      1969\n",
      "     macro avg       0.76      0.72      0.74      1969\n",
      "  weighted avg       0.65      0.65      0.64      1969\n",
      "\n"
     ]
    },
    {
     "name": "stderr",
     "output_type": "stream",
     "text": [
      "/Users/aashikaperunkolam/opt/anaconda3/lib/python3.9/site-packages/sklearn/linear_model/_logistic.py:814: ConvergenceWarning: lbfgs failed to converge (status=1):\n",
      "STOP: TOTAL NO. of ITERATIONS REACHED LIMIT.\n",
      "\n",
      "Increase the number of iterations (max_iter) or scale the data as shown in:\n",
      "    https://scikit-learn.org/stable/modules/preprocessing.html\n",
      "Please also refer to the documentation for alternative solver options:\n",
      "    https://scikit-learn.org/stable/modules/linear_model.html#logistic-regression\n",
      "  n_iter_i = _check_optimize_result(\n"
     ]
    },
    {
     "data": {
      "image/png": "[encoded data removed]",
      "text/plain": [
       "<Figure size 432x288 with 2 Axes>"
      ]
     },
     "metadata": {
      "needs_background": "light"
     },
     "output_type": "display_data"
    }
   ],
   "source": [
    "# Create the classifier, fit it on the training data and make predictions on the test set:\n",
    "logr = LogisticRegression()\n",
    "\n",
    "logr.fit(X_train, y_train)\n",
    "y_pred_dev_logr = logr.predict(X_dev)\n",
    "y_pred_train_logr = logr.predict(X_train)\n",
    "\n",
    "# Check the Accuracy:\n",
    "print('Logistic Regression Train Accuracy: ', balanced_accuracy_score(y_train, y_pred_train_logr)*100,'%')\n",
    "print('Logistic Regession Dev Accuracy: ', balanced_accuracy_score(y_dev, y_pred_dev_logr)*100,'%')\n",
    "\n",
    "# Print classification report:\n",
    "print(classification_report(y_dev, y_pred_dev_logr))\n",
    "\n",
    "# Confusion Matrix for LogReg:\n",
    "cm_logr = confusion_matrix(y_dev,y_pred_dev_logr)\n",
    "confusion_matrix_plot(cm_logr, classes=class_names, title='Logistic Regression Confusion Matrix')"
   ]
  },
  {
   "cell_type": "code",
   "execution_count": 38,
   "id": "8a20d5df",
   "metadata": {},
   "outputs": [
    {
     "data": {
      "text/plain": [
       "Critical          1020\n",
       "Not Critical       926\n",
       "Not Applicable      23\n",
       "Name: CRITICAL FLAG, dtype: int64"
      ]
     },
     "execution_count": 38,
     "metadata": {},
     "output_type": "execute_result"
    }
   ],
   "source": [
    "y_dev.value_counts()"
   ]
  },
  {
   "cell_type": "markdown",
   "id": "b3a3bc63",
   "metadata": {},
   "source": [
    "### 2) Random Forest"
   ]
  },
  {
   "cell_type": "code",
   "execution_count": 40,
   "id": "dbd031df",
   "metadata": {},
   "outputs": [
    {
     "name": "stdout",
     "output_type": "stream",
     "text": [
      "Random Forest Train Accuracy:  98.70816846227822 %\n",
      "Random Forest Dev Accuracy:  67.25735393853913 %\n",
      "                precision    recall  f1-score   support\n",
      "\n",
      "      Critical       0.64      0.73      0.68      1020\n",
      "Not Applicable       0.89      0.74      0.81        23\n",
      "  Not Critical       0.65      0.54      0.59       926\n",
      "\n",
      "      accuracy                           0.64      1969\n",
      "     macro avg       0.73      0.67      0.69      1969\n",
      "  weighted avg       0.65      0.64      0.64      1969\n",
      "\n"
     ]
    },
    {
     "data": {
      "image/png": "[encoded data removed]",
      "text/plain": [
       "<Figure size 432x288 with 2 Axes>"
      ]
     },
     "metadata": {
      "needs_background": "light"
     },
     "output_type": "display_data"
    }
   ],
   "source": [
    "# Create the classifier, fit it on the training data and make predictions on the test set:\n",
    "from sklearn.metrics import balanced_accuracy_score\n",
    "rforest = RandomForestClassifier(n_estimators=120, criterion = 'entropy', max_depth=None, max_features=10, \n",
    "                                 min_samples_split=8, random_state=123)\n",
    "rforest.fit(X_train, y_train)\n",
    "y_pred_dev_rf = rforest.predict(X_dev)\n",
    "y_pred_train_rf = rforest.predict(X_train)\n",
    "\n",
    "# Check the Accuracy:\n",
    "print('Random Forest Train Accuracy: ', balanced_accuracy_score(y_train, y_pred_train_rf)*100,'%')\n",
    "print('Random Forest Dev Accuracy: ', balanced_accuracy_score(y_dev, y_pred_dev_rf)*100,'%')\n",
    "\n",
    "# Print classification report:\n",
    "print(classification_report(y_dev, y_pred_dev_rf))\n",
    "\n",
    "# Confusion Matrix for Random Forest:\n",
    "cm_forest = confusion_matrix(y_dev,y_pred_dev_rf)\n",
    "confusion_matrix_plot(cm_forest, classes=class_names, title='Random Forest Confusion Matrix')"
   ]
  },
  {
   "cell_type": "code",
   "execution_count": 41,
   "id": "82a8e8e7",
   "metadata": {},
   "outputs": [
    {
     "data": {
      "image/png": "[encoded data removed]",
      "text/plain": [
       "<Figure size 720x720 with 1 Axes>"
      ]
     },
     "metadata": {
      "needs_background": "light"
     },
     "output_type": "display_data"
    }
   ],
   "source": [
    "# Plot the 30 most influential features based on XGBoost model:\n",
    "influential_features = pd.Series(rforest.feature_importances_, index=X_train.columns)\n",
    "influential_features.nlargest(30).sort_values().plot(kind='barh', color='slategrey', figsize=(10,10))\n",
    "plt.title('Feature Importances with Random Forest');"
   ]
  }
 ],
 "metadata": {
  "kernelspec": {
   "display_name": "Python 3 (ipykernel)",
   "language": "python",
   "name": "python3"
  },
  "language_info": {
   "codemirror_mode": {
    "name": "ipython",
    "version": 3
   },
   "file_extension": ".py",
   "mimetype": "text/x-python",
   "name": "python",
   "nbconvert_exporter": "python",
   "pygments_lexer": "ipython3",
   "version": "3.9.12"
  }
 },
 "nbformat": 4,
 "nbformat_minor": 5
}
